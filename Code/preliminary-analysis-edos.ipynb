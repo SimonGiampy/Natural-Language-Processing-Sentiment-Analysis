{
 "metadata": {
  "kernelspec": {
   "language": "python",
   "display_name": "Python 3",
   "name": "python3"
  },
  "language_info": {
   "name": "python",
   "version": "3.10.10",
   "mimetype": "text/x-python",
   "codemirror_mode": {
    "name": "ipython",
    "version": 3
   },
   "pygments_lexer": "ipython3",
   "nbconvert_exporter": "python",
   "file_extension": ".py"
  }
 },
 "nbformat_minor": 4,
 "nbformat": 4,
 "cells": [
  {
   "cell_type": "code",
   "source": [
    "import pandas as pd\n",
    "import numpy as np\n",
    "import seaborn as sns\n",
    "import matplotlib.pyplot as plt\n",
    "import nltk\n",
    "from nltk.corpus import stopwords\n",
    "from nltk import FreqDist\n",
    "import string\n",
    "import re"
   ],
   "metadata": {
    "execution": {
     "iopub.status.busy": "2023-05-26T15:13:38.876837Z",
     "iopub.execute_input": "2023-05-26T15:13:38.878137Z",
     "iopub.status.idle": "2023-05-26T15:13:40.545569Z",
     "shell.execute_reply.started": "2023-05-26T15:13:38.878097Z",
     "shell.execute_reply": "2023-05-26T15:13:40.544399Z"
    },
    "trusted": true
   },
   "execution_count": 1,
   "outputs": []
  },
  {
   "cell_type": "code",
   "source": [
    "dataset = pd.read_csv('Datasets/EDOS 1M.csv')\n",
    "\n",
    "classes = np.sort(dataset[\"eb+_emot\"].unique())\n",
    "classes"
   ],
   "metadata": {
    "execution": {
     "iopub.status.busy": "2023-05-26T15:14:45.663212Z",
     "iopub.execute_input": "2023-05-26T15:14:45.663704Z",
     "iopub.status.idle": "2023-05-26T15:14:51.762716Z",
     "shell.execute_reply.started": "2023-05-26T15:14:45.663664Z",
     "shell.execute_reply": "2023-05-26T15:14:51.761473Z"
    },
    "trusted": true
   },
   "execution_count": 2,
   "outputs": [
    {
     "data": {
      "text/plain": "array(['acknowledging', 'afraid', 'agreeing', 'angry', 'annoyed',\n       'anticipating', 'anxious', 'apprehensive', 'ashamed', 'caring',\n       'confident', 'consoling', 'content', 'devastated', 'disappointed',\n       'disgusted', 'embarrassed', 'encouraging', 'excited', 'faithful',\n       'furious', 'grateful', 'guilty', 'hopeful', 'impressed', 'jealous',\n       'joyful', 'lonely', 'neutral', 'nostalgic', 'prepared', 'proud',\n       'questioning', 'sad', 'sentimental', 'suggesting', 'surprised',\n       'sympathizing', 'terrified', 'trusting', 'wishing'], dtype=object)"
     },
     "execution_count": 2,
     "metadata": {},
     "output_type": "execute_result"
    }
   ]
  },
  {
   "cell_type": "code",
   "execution_count": 3,
   "outputs": [
    {
     "data": {
      "text/plain": "   dialogue_id  turn                                               uttr  \\\n0           97     1  You moron ! What fool washes diapers by the we...   \n1           97     2                                 You useless fool !   \n2           99     1                               How dare you sleep !   \n3           99     2                      Up ! Go and clean the house .   \n4          100     1                                Clean the kitchen .   \n\n   eb+_emot  label_confidence  \n0     angry          0.437522  \n1   furious          0.731564  \n2   furious          0.605636  \n3  prepared          0.650449  \n4  prepared          0.742187  ",
      "text/html": "<div>\n<style scoped>\n    .dataframe tbody tr th:only-of-type {\n        vertical-align: middle;\n    }\n\n    .dataframe tbody tr th {\n        vertical-align: top;\n    }\n\n    .dataframe thead th {\n        text-align: right;\n    }\n</style>\n<table border=\"1\" class=\"dataframe\">\n  <thead>\n    <tr style=\"text-align: right;\">\n      <th></th>\n      <th>dialogue_id</th>\n      <th>turn</th>\n      <th>uttr</th>\n      <th>eb+_emot</th>\n      <th>label_confidence</th>\n    </tr>\n  </thead>\n  <tbody>\n    <tr>\n      <th>0</th>\n      <td>97</td>\n      <td>1</td>\n      <td>You moron ! What fool washes diapers by the we...</td>\n      <td>angry</td>\n      <td>0.437522</td>\n    </tr>\n    <tr>\n      <th>1</th>\n      <td>97</td>\n      <td>2</td>\n      <td>You useless fool !</td>\n      <td>furious</td>\n      <td>0.731564</td>\n    </tr>\n    <tr>\n      <th>2</th>\n      <td>99</td>\n      <td>1</td>\n      <td>How dare you sleep !</td>\n      <td>furious</td>\n      <td>0.605636</td>\n    </tr>\n    <tr>\n      <th>3</th>\n      <td>99</td>\n      <td>2</td>\n      <td>Up ! Go and clean the house .</td>\n      <td>prepared</td>\n      <td>0.650449</td>\n    </tr>\n    <tr>\n      <th>4</th>\n      <td>100</td>\n      <td>1</td>\n      <td>Clean the kitchen .</td>\n      <td>prepared</td>\n      <td>0.742187</td>\n    </tr>\n  </tbody>\n</table>\n</div>"
     },
     "execution_count": 3,
     "metadata": {},
     "output_type": "execute_result"
    }
   ],
   "source": [
    "dataset.head()"
   ],
   "metadata": {
    "collapsed": false
   }
  },
  {
   "cell_type": "code",
   "source": [
    "# plot classes distribution\n",
    "counts = pd.get_dummies(dataset[\"eb+_emot\"]).sum()\n",
    "\n",
    "plt.ylabel('Counts')\n",
    "plt.xlabel('Classes')\n",
    "sns.barplot(x = [i for i in range(len(classes))], y = counts)\n",
    "plt.show()"
   ],
   "metadata": {
    "execution": {
     "iopub.status.busy": "2023-05-26T15:15:07.440007Z",
     "iopub.execute_input": "2023-05-26T15:15:07.440401Z",
     "iopub.status.idle": "2023-05-26T15:15:09.302139Z",
     "shell.execute_reply.started": "2023-05-26T15:15:07.440373Z",
     "shell.execute_reply": "2023-05-26T15:15:09.301110Z"
    },
    "trusted": true
   },
   "execution_count": 4,
   "outputs": [
    {
     "data": {
      "text/plain": "<Figure size 432x288 with 1 Axes>",
      "image/png": "[encoded data removed]"
     },
     "metadata": {},
     "output_type": "display_data"
    }
   ]
  },
  {
   "cell_type": "code",
   "source": [
    "doc = \", \".join(dataset[\"uttr\"])"
   ],
   "metadata": {
    "execution": {
     "iopub.status.busy": "2023-05-26T15:15:13.491175Z",
     "iopub.execute_input": "2023-05-26T15:15:13.491574Z",
     "iopub.status.idle": "2023-05-26T15:15:14.470018Z",
     "shell.execute_reply.started": "2023-05-26T15:15:13.491511Z",
     "shell.execute_reply": "2023-05-26T15:15:14.467555Z"
    },
    "trusted": true
   },
   "execution_count": 5,
   "outputs": []
  },
  {
   "cell_type": "code",
   "source": [
    "print(doc[:1000])"
   ],
   "metadata": {
    "execution": {
     "iopub.status.busy": "2023-05-26T15:15:14.770510Z",
     "iopub.execute_input": "2023-05-26T15:15:14.770922Z",
     "iopub.status.idle": "2023-05-26T15:15:14.777279Z",
     "shell.execute_reply.started": "2023-05-26T15:15:14.770888Z",
     "shell.execute_reply": "2023-05-26T15:15:14.776112Z"
    },
    "trusted": true
   },
   "execution_count": 6,
   "outputs": [
    {
     "name": "stdout",
     "output_type": "stream",
     "text": [
      "You moron ! What fool washes diapers by the well !, You useless fool !, How dare you sleep !, Up ! Go and clean the house ., Clean the kitchen ., I cleaned the kitchen , ma 'am ., Your name means to trust . It also means truth . And endurance . Or it could be god ., You were given a great name . You 'd better live up to it ., I 'll go home in the spring once the snow melts ., Listen . No matter how tough it gets I wouldn 't bring shame to you and your dad . I promise I won 't ., Your medicine . Open your mouth ., Granny ..., Don 't spill it ., Granny !, Oshin ., Brandon said he 's headed down to Galway ., Craking , Galway , it 's the same thing . He 's really heading down there ..., Hi there , Welcome to the Stockroom ., I don 't really work here . I 've never even been to a store like this ., Don 't get me wrong . I 'm not a prude . I like sex ., Shut up bitch ! Show us the butt plugs . Butt plugs . Aisle three I think ., Sorry , Shengqi . My Dad 's present is more important than your\n"
     ]
    }
   ]
  },
  {
   "cell_type": "code",
   "source": [
    "words = doc.split()"
   ],
   "metadata": {
    "execution": {
     "iopub.status.busy": "2023-05-26T15:15:17.615180Z",
     "iopub.execute_input": "2023-05-26T15:15:17.615534Z",
     "iopub.status.idle": "2023-05-26T15:15:21.462897Z",
     "shell.execute_reply.started": "2023-05-26T15:15:17.615505Z",
     "shell.execute_reply": "2023-05-26T15:15:21.461869Z"
    },
    "trusted": true
   },
   "execution_count": 8,
   "outputs": []
  },
  {
   "cell_type": "code",
   "source": [
    "len(words)"
   ],
   "metadata": {
    "execution": {
     "iopub.status.busy": "2023-05-26T15:15:21.464902Z",
     "iopub.execute_input": "2023-05-26T15:15:21.465289Z",
     "iopub.status.idle": "2023-05-26T15:15:21.477371Z",
     "shell.execute_reply.started": "2023-05-26T15:15:21.465261Z",
     "shell.execute_reply": "2023-05-26T15:15:21.476164Z"
    },
    "trusted": true
   },
   "execution_count": 9,
   "outputs": [
    {
     "data": {
      "text/plain": "39469825"
     },
     "execution_count": 9,
     "metadata": {},
     "output_type": "execute_result"
    }
   ]
  },
  {
   "cell_type": "code",
   "source": [
    "lowercase_doc = doc.lower()\n",
    "words = lowercase_doc.split()\n",
    "vocab = set(words)"
   ],
   "metadata": {
    "execution": {
     "iopub.status.busy": "2023-05-26T15:15:23.581091Z",
     "iopub.execute_input": "2023-05-26T15:15:23.581488Z",
     "iopub.status.idle": "2023-05-26T15:15:33.109709Z",
     "shell.execute_reply.started": "2023-05-26T15:15:23.581458Z",
     "shell.execute_reply": "2023-05-26T15:15:33.108611Z"
    },
    "trusted": true
   },
   "execution_count": 10,
   "outputs": []
  },
  {
   "cell_type": "code",
   "execution_count": 11,
   "outputs": [
    {
     "data": {
      "text/plain": "277024"
     },
     "execution_count": 11,
     "metadata": {},
     "output_type": "execute_result"
    }
   ],
   "source": [
    "len(vocab)"
   ],
   "metadata": {
    "collapsed": false
   }
  },
  {
   "cell_type": "code",
   "source": [
    "regex = '[' + string.punctuation + ']'\n",
    "doc2_nopunctuation = re.sub(regex,'',lowercase_doc)\n",
    "print(doc2_nopunctuation[:1000])"
   ],
   "metadata": {
    "execution": {
     "iopub.status.busy": "2023-05-26T15:16:01.389739Z",
     "iopub.execute_input": "2023-05-26T15:16:01.390165Z",
     "iopub.status.idle": "2023-05-26T15:16:09.720783Z",
     "shell.execute_reply.started": "2023-05-26T15:16:01.390133Z",
     "shell.execute_reply": "2023-05-26T15:16:09.719650Z"
    },
    "trusted": true
   },
   "execution_count": 12,
   "outputs": [
    {
     "name": "stdout",
     "output_type": "stream",
     "text": [
      "you moron  what fool washes diapers by the well  you useless fool  how dare you sleep  up  go and clean the house  clean the kitchen  i cleaned the kitchen  ma am  your name means to trust  it also means truth  and endurance  or it could be god  you were given a great name  you d better live up to it  i ll go home in the spring once the snow melts  listen  no matter how tough it gets i wouldn t bring shame to you and your dad  i promise i won t  your medicine  open your mouth  granny  don t spill it  granny  oshin  brandon said he s headed down to galway  craking  galway  it s the same thing  he s really heading down there  hi there  welcome to the stockroom  i don t really work here  i ve never even been to a store like this  don t get me wrong  i m not a prude  i like sex  shut up bitch  show us the butt plugs  butt plugs  aisle three i think  sorry  shengqi  my dad s present is more important than your pretend promise to your imaginary daughter  she s real  everything i ve told you \n"
     ]
    }
   ]
  },
  {
   "cell_type": "code",
   "source": [
    "words = doc2_nopunctuation.lower().split()\n",
    "sorted_vocab = sorted(set(words))"
   ],
   "metadata": {
    "execution": {
     "iopub.status.busy": "2023-05-26T15:16:09.723345Z",
     "iopub.execute_input": "2023-05-26T15:16:09.724203Z",
     "iopub.status.idle": "2023-05-26T15:16:18.265180Z",
     "shell.execute_reply.started": "2023-05-26T15:16:09.724162Z",
     "shell.execute_reply": "2023-05-26T15:16:18.264031Z"
    },
    "trusted": true
   },
   "execution_count": 13,
   "outputs": []
  },
  {
   "cell_type": "code",
   "source": [
    "# 20 most common word\n",
    "counts = nltk.Counter(words)\n",
    "counts.most_common(20)"
   ],
   "metadata": {
    "execution": {
     "iopub.status.busy": "2023-05-26T15:16:22.895648Z",
     "iopub.execute_input": "2023-05-26T15:16:22.896134Z",
     "iopub.status.idle": "2023-05-26T15:16:22.980656Z",
     "shell.execute_reply.started": "2023-05-26T15:16:22.896085Z",
     "shell.execute_reply": "2023-05-26T15:16:22.979494Z"
    },
    "trusted": true
   },
   "execution_count": 14,
   "outputs": [
    {
     "data": {
      "text/plain": "[('you', 1534393),\n ('i', 1204942),\n ('the', 917180),\n ('to', 749409),\n ('s', 621568),\n ('it', 587412),\n ('a', 579725),\n ('t', 434283),\n ('that', 395960),\n ('and', 363961),\n ('is', 356225),\n ('what', 352648),\n ('of', 342576),\n ('me', 325439),\n ('we', 303621),\n ('in', 298627),\n ('this', 268911),\n ('are', 244647),\n ('for', 241906),\n ('do', 235273)]"
     },
     "execution_count": 14,
     "metadata": {},
     "output_type": "execute_result"
    }
   ]
  },
  {
   "cell_type": "code",
   "source": [
    "nltk.download('stopwords')"
   ],
   "metadata": {
    "execution": {
     "iopub.status.busy": "2023-05-26T15:16:22.982431Z",
     "iopub.execute_input": "2023-05-26T15:16:22.982786Z",
     "iopub.status.idle": "2023-05-26T15:16:23.514124Z",
     "shell.execute_reply.started": "2023-05-26T15:16:22.982759Z",
     "shell.execute_reply": "2023-05-26T15:16:23.512901Z"
    },
    "trusted": true
   },
   "execution_count": 15,
   "outputs": [
    {
     "name": "stderr",
     "output_type": "stream",
     "text": [
      "[nltk_data] Downloading package stopwords to\n",
      "[nltk_data]     C:\\Users\\franc\\AppData\\Roaming\\nltk_data...\n",
      "[nltk_data]   Package stopwords is already up-to-date!\n"
     ]
    },
    {
     "data": {
      "text/plain": "True"
     },
     "execution_count": 15,
     "metadata": {},
     "output_type": "execute_result"
    }
   ]
  },
  {
   "cell_type": "code",
   "source": [
    "stopwords = set(stopwords.words('english'))\n",
    "counts_nostopwords = FreqDist(w for w in words if w not in stopwords)\n",
    "most_common_words = counts_nostopwords.most_common(20)"
   ],
   "metadata": {
    "execution": {
     "iopub.status.busy": "2023-05-26T15:16:23.534649Z",
     "iopub.execute_input": "2023-05-26T15:16:23.535009Z",
     "iopub.status.idle": "2023-05-26T15:16:23.548916Z",
     "shell.execute_reply.started": "2023-05-26T15:16:23.534972Z",
     "shell.execute_reply": "2023-05-26T15:16:23.547991Z"
    },
    "trusted": true
   },
   "execution_count": 16,
   "outputs": []
  },
  {
   "cell_type": "code",
   "execution_count": 17,
   "outputs": [
    {
     "name": "stdout",
     "output_type": "stream",
     "text": [
      "[('know', 166768), ('get', 141445), ('go', 128540), ('like', 127309), ('come', 112337), ('right', 110645), ('want', 100195), ('one', 93542), ('good', 90990), ('see', 87898), ('think', 85531), ('got', 82247), ('well', 81755), ('going', 76447), ('let', 75508), ('yes', 74771), ('yeah', 69091), ('back', 67175), ('take', 66526), ('us', 66092)]\n"
     ]
    }
   ],
   "source": [
    "#20 most common words excluding stop-words\n",
    "print(most_common_words)"
   ],
   "metadata": {
    "collapsed": false
   }
  },
  {
   "cell_type": "code",
   "source": [
    "average_conversation_length = dataset.groupby('dialogue_id').count().mean()['uttr']\n",
    "min_conversation_length = dataset.groupby('dialogue_id').count().min()['uttr']\n",
    "max_conversation_length = dataset.groupby('dialogue_id').count().max()['uttr']"
   ],
   "metadata": {
    "execution": {
     "iopub.status.busy": "2023-05-26T15:22:42.747699Z",
     "iopub.execute_input": "2023-05-26T15:22:42.748111Z",
     "iopub.status.idle": "2023-05-26T15:22:49.041915Z",
     "shell.execute_reply.started": "2023-05-26T15:22:42.748070Z",
     "shell.execute_reply": "2023-05-26T15:22:49.041015Z"
    },
    "trusted": true
   },
   "execution_count": 18,
   "outputs": []
  },
  {
   "cell_type": "code",
   "source": [
    "print('average_conversation_length: ', average_conversation_length)\n",
    "print('min_conversation_length: ', min_conversation_length)\n",
    "print('max_conversation_length: ', max_conversation_length)"
   ],
   "metadata": {
    "execution": {
     "iopub.status.busy": "2023-05-26T15:23:10.355420Z",
     "iopub.execute_input": "2023-05-26T15:23:10.355842Z",
     "iopub.status.idle": "2023-05-26T15:23:10.362603Z",
     "shell.execute_reply.started": "2023-05-26T15:23:10.355812Z",
     "shell.execute_reply": "2023-05-26T15:23:10.361586Z"
    },
    "trusted": true
   },
   "execution_count": 19,
   "outputs": [
    {
     "name": "stdout",
     "output_type": "stream",
     "text": [
      "average_conversation_length:  2.829426\n",
      "min_conversation_length:  2\n",
      "max_conversation_length:  14\n"
     ]
    }
   ]
  }
 ]
}
