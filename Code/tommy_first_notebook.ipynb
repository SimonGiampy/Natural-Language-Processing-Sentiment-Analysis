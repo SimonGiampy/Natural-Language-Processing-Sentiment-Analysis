{
 "cells": [
  {
   "cell_type": "code",
   "execution_count": 1,
   "metadata": {},
   "outputs": [],
   "source": [
    "import pandas as pd"
   ]
  },
  {
   "cell_type": "code",
   "execution_count": 3,
   "metadata": {},
   "outputs": [
    {
     "data": {
      "text/html": [
       "<div>\n",
       "<style scoped>\n",
       "    .dataframe tbody tr th:only-of-type {\n",
       "        vertical-align: middle;\n",
       "    }\n",
       "\n",
       "    .dataframe tbody tr th {\n",
       "        vertical-align: top;\n",
       "    }\n",
       "\n",
       "    .dataframe thead th {\n",
       "        text-align: right;\n",
       "    }\n",
       "</style>\n",
       "<table border=\"1\" class=\"dataframe\">\n",
       "  <thead>\n",
       "    <tr style=\"text-align: right;\">\n",
       "      <th></th>\n",
       "      <th>dialogue_id</th>\n",
       "      <th>turn</th>\n",
       "      <th>uttr</th>\n",
       "      <th>eb+_emot</th>\n",
       "      <th>label_confidence</th>\n",
       "    </tr>\n",
       "  </thead>\n",
       "  <tbody>\n",
       "    <tr>\n",
       "      <th>0</th>\n",
       "      <td>97</td>\n",
       "      <td>1</td>\n",
       "      <td>You moron ! What fool washes diapers by the we...</td>\n",
       "      <td>angry</td>\n",
       "      <td>0.437522</td>\n",
       "    </tr>\n",
       "    <tr>\n",
       "      <th>1</th>\n",
       "      <td>97</td>\n",
       "      <td>2</td>\n",
       "      <td>You useless fool !</td>\n",
       "      <td>furious</td>\n",
       "      <td>0.731564</td>\n",
       "    </tr>\n",
       "    <tr>\n",
       "      <th>2</th>\n",
       "      <td>99</td>\n",
       "      <td>1</td>\n",
       "      <td>How dare you sleep !</td>\n",
       "      <td>furious</td>\n",
       "      <td>0.605636</td>\n",
       "    </tr>\n",
       "    <tr>\n",
       "      <th>3</th>\n",
       "      <td>99</td>\n",
       "      <td>2</td>\n",
       "      <td>Up ! Go and clean the house .</td>\n",
       "      <td>prepared</td>\n",
       "      <td>0.650449</td>\n",
       "    </tr>\n",
       "    <tr>\n",
       "      <th>4</th>\n",
       "      <td>100</td>\n",
       "      <td>1</td>\n",
       "      <td>Clean the kitchen .</td>\n",
       "      <td>prepared</td>\n",
       "      <td>0.742187</td>\n",
       "    </tr>\n",
       "  </tbody>\n",
       "</table>\n",
       "</div>"
      ],
      "text/plain": [
       "   dialogue_id  turn                                               uttr  \\\n",
       "0           97     1  You moron ! What fool washes diapers by the we...   \n",
       "1           97     2                                 You useless fool !   \n",
       "2           99     1                               How dare you sleep !   \n",
       "3           99     2                      Up ! Go and clean the house .   \n",
       "4          100     1                                Clean the kitchen .   \n",
       "\n",
       "   eb+_emot  label_confidence  \n",
       "0     angry          0.437522  \n",
       "1   furious          0.731564  \n",
       "2   furious          0.605636  \n",
       "3  prepared          0.650449  \n",
       "4  prepared          0.742187  "
      ]
     },
     "execution_count": 3,
     "metadata": {},
     "output_type": "execute_result"
    }
   ],
   "source": [
    "dataset = pd.read_csv('../Dataset/EDOS 1M.csv')\n",
    "dataset.head()"
   ]
  }
 ],
 "metadata": {
  "kernelspec": {
   "display_name": "nlp",
   "language": "python",
   "name": "python3"
  },
  "language_info": {
   "codemirror_mode": {
    "name": "ipython",
    "version": 3
   },
   "file_extension": ".py",
   "mimetype": "text/x-python",
   "name": "python",
   "nbconvert_exporter": "python",
   "pygments_lexer": "ipython3",
   "version": "3.11.0"
  },
  "orig_nbformat": 4
 },
 "nbformat": 4,
 "nbformat_minor": 2
}
