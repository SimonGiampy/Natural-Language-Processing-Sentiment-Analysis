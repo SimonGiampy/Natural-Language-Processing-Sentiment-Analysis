{
 "cells": [
  {
   "cell_type": "code",
   "execution_count": 1,
   "id": "3309f7f2",
   "metadata": {
    "_cell_guid": "b1076dfc-b9ad-4769-8c92-a6c4dae69d19",
    "_uuid": "8f2839f25d086af736a60e9eeb907d3b93b6e0e5",
    "execution": {
     "iopub.execute_input": "2023-05-21T13:11:38.983459Z",
     "iopub.status.busy": "2023-05-21T13:11:38.982531Z",
     "iopub.status.idle": "2023-05-21T13:11:41.096793Z",
     "shell.execute_reply": "2023-05-21T13:11:41.095436Z"
    },
    "papermill": {
     "duration": 2.125687,
     "end_time": "2023-05-21T13:11:41.100616",
     "exception": false,
     "start_time": "2023-05-21T13:11:38.974929",
     "status": "completed"
    },
    "tags": []
   },
   "outputs": [
    {
     "name": "stderr",
     "output_type": "stream",
     "text": [
      "/opt/conda/lib/python3.10/site-packages/scipy/__init__.py:146: UserWarning: A NumPy version >=1.16.5 and <1.23.0 is required for this version of SciPy (detected version 1.23.5\n",
      "  warnings.warn(f\"A NumPy version >={np_minversion} and <{np_maxversion}\"\n"
     ]
    }
   ],
   "source": [
    "import pandas as pd\n",
    "import numpy as np\n",
    "import seaborn as sns\n",
    "import matplotlib.pyplot as plt\n",
    "\n",
    "from sklearn.model_selection import train_test_split\n",
    "from sklearn.metrics import classification_report\n",
    "from sklearn.feature_extraction.text import CountVectorizer\n",
    "from sklearn.linear_model import SGDClassifier"
   ]
  },
  {
   "cell_type": "code",
   "execution_count": 2,
   "id": "0317a1e2",
   "metadata": {
    "execution": {
     "iopub.execute_input": "2023-05-21T13:11:41.111252Z",
     "iopub.status.busy": "2023-05-21T13:11:41.110822Z",
     "iopub.status.idle": "2023-05-21T13:11:51.145166Z",
     "shell.execute_reply": "2023-05-21T13:11:51.143396Z"
    },
    "papermill": {
     "duration": 10.04279,
     "end_time": "2023-05-21T13:11:51.147851",
     "exception": false,
     "start_time": "2023-05-21T13:11:41.105061",
     "status": "completed"
    },
    "tags": []
   },
   "outputs": [
    {
     "name": "stdout",
     "output_type": "stream",
     "text": [
      "0    You moron ! What fool washes diapers by the we...\n",
      "1                                   You useless fool !\n",
      "2                                 How dare you sleep !\n",
      "3                        Up ! Go and clean the house .\n",
      "4                                  Clean the kitchen .\n",
      "Name: uttr, dtype: object\n",
      "<class 'pandas.core.series.Series'>\n",
      "\n",
      "0       angry\n",
      "1     furious\n",
      "2     furious\n",
      "3    prepared\n",
      "4    prepared\n",
      "Name: eb+_emot, dtype: object\n",
      "<class 'pandas.core.series.Series'>\n",
      "\n"
     ]
    },
    {
     "data": {
      "text/plain": [
       "array(['angry', 'furious', 'prepared', 'acknowledging', 'trusting',\n",
       "       'confident', 'hopeful', 'caring', 'sentimental', 'anticipating',\n",
       "       'wishing', 'surprised', 'ashamed', 'questioning', 'sad',\n",
       "       'nostalgic', 'devastated', 'terrified', 'embarrassed', 'lonely',\n",
       "       'encouraging', 'suggesting', 'content', 'afraid', 'impressed',\n",
       "       'agreeing', 'apprehensive', 'proud', 'annoyed', 'anxious',\n",
       "       'grateful', 'excited', 'neutral', 'faithful', 'guilty',\n",
       "       'consoling', 'disgusted', 'disappointed', 'jealous', 'joyful',\n",
       "       'sympathizing'], dtype=object)"
      ]
     },
     "execution_count": 2,
     "metadata": {},
     "output_type": "execute_result"
    }
   ],
   "source": [
    "dataset = pd.read_csv('../input/edos-1m/EDOS 1M.csv')\n",
    "\n",
    "dataset_percentage = 1\n",
    "if dataset_percentage < 1:\n",
    "    dataset = dataset.sample(n=int(len(dataset)*dataset_percentage))\n",
    "\n",
    "X,y = dataset[\"uttr\"], dataset[\"eb+_emot\"]\n",
    "\n",
    "print(X.head(5))\n",
    "print(type(X), end=\"\\n\\n\")\n",
    "print(y.head(5))\n",
    "print(type(y), end=\"\\n\\n\")\n",
    "\n",
    "classes = y.unique()\n",
    "classes"
   ]
  },
  {
   "cell_type": "markdown",
   "id": "6eec928b",
   "metadata": {
    "papermill": {
     "duration": 0.004523,
     "end_time": "2023-05-21T13:11:51.156695",
     "exception": false,
     "start_time": "2023-05-21T13:11:51.152172",
     "status": "completed"
    },
    "tags": []
   },
   "source": [
    "# Preparation"
   ]
  },
  {
   "cell_type": "code",
   "execution_count": 3,
   "id": "aca83549",
   "metadata": {
    "execution": {
     "iopub.execute_input": "2023-05-21T13:11:51.168165Z",
     "iopub.status.busy": "2023-05-21T13:11:51.167703Z",
     "iopub.status.idle": "2023-05-21T13:11:52.891336Z",
     "shell.execute_reply": "2023-05-21T13:11:52.889591Z"
    },
    "papermill": {
     "duration": 1.733374,
     "end_time": "2023-05-21T13:11:52.894596",
     "exception": false,
     "start_time": "2023-05-21T13:11:51.161222",
     "status": "completed"
    },
    "tags": []
   },
   "outputs": [
    {
     "data": {
      "image/png": "[encoded data removed]",
      "text/plain": [
       "<Figure size 640x480 with 1 Axes>"
      ]
     },
     "metadata": {},
     "output_type": "display_data"
    }
   ],
   "source": [
    "# plot classes distribution\n",
    "counts = pd.get_dummies(y).sum()\n",
    "\n",
    "plt.ylabel('Counts')\n",
    "plt.xlabel('Classes')\n",
    "sns.barplot(x = [i for i in range(len(classes))], y = counts)\n",
    "plt.show()"
   ]
  },
  {
   "cell_type": "code",
   "execution_count": 4,
   "id": "0585ba75",
   "metadata": {
    "execution": {
     "iopub.execute_input": "2023-05-21T13:11:52.906073Z",
     "iopub.status.busy": "2023-05-21T13:11:52.905639Z",
     "iopub.status.idle": "2023-05-21T13:12:01.999901Z",
     "shell.execute_reply": "2023-05-21T13:12:01.998084Z"
    },
    "papermill": {
     "duration": 9.10406,
     "end_time": "2023-05-21T13:12:02.003432",
     "exception": false,
     "start_time": "2023-05-21T13:11:52.899372",
     "status": "completed"
    },
    "tags": []
   },
   "outputs": [
    {
     "name": "stdout",
     "output_type": "stream",
     "text": [
      "train size:  1980598\n",
      "validation size:  848828\n"
     ]
    }
   ],
   "source": [
    "# train, validation and test split\n",
    "train_X, valid_X, train_y, valid_y = train_test_split(X, y, test_size=0.3, stratify=y)\n",
    "\n",
    "print(\"train size: \", len(train_X))\n",
    "print(\"validation size: \", len(valid_X))"
   ]
  },
  {
   "cell_type": "markdown",
   "id": "d3058c72",
   "metadata": {
    "papermill": {
     "duration": 0.005429,
     "end_time": "2023-05-21T13:12:02.013910",
     "exception": false,
     "start_time": "2023-05-21T13:12:02.008481",
     "status": "completed"
    },
    "tags": []
   },
   "source": [
    "# Single utterance classification - Baseline model"
   ]
  },
  {
   "cell_type": "code",
   "execution_count": 5,
   "id": "4c345bb7",
   "metadata": {
    "execution": {
     "iopub.execute_input": "2023-05-21T13:12:02.026533Z",
     "iopub.status.busy": "2023-05-21T13:12:02.026060Z",
     "iopub.status.idle": "2023-05-21T13:13:28.089357Z",
     "shell.execute_reply": "2023-05-21T13:13:28.088012Z"
    },
    "papermill": {
     "duration": 86.073408,
     "end_time": "2023-05-21T13:13:28.092413",
     "exception": false,
     "start_time": "2023-05-21T13:12:02.019005",
     "status": "completed"
    },
    "tags": []
   },
   "outputs": [
    {
     "name": "stdout",
     "output_type": "stream",
     "text": [
      "Vocabulary length: 48430\n",
      "First words: ['00' '000' '001' '007' '00am' '00pm' '01' '02' '03' '04' '05' '06' '0600'\n",
      " '07' '0700' '08' '0800' '09' '0900' '0f' '0h' '0k' '0kay' '0n' '0ne'\n",
      " '0nly' '0r' '0th' '0ur' '0ut' '10' '100' '1000' '10000' '100000' '1001'\n",
      " '100m' '100s' '100th' '101' '101st' '102' '103' '104' '104th' '105' '106'\n",
      " '107' '108' '109' '10am' '10k' '10pm' '10s' '10th' '11' '110' '1100'\n",
      " '111' '112' '113' '114' '115' '116' '117' '118' '119' '11am' '11th' '12'\n",
      " '120' '1200' '121' '122' '123' '124' '125' '127' '128' '12th' '13' '130'\n",
      " '1300' '132' '133' '134' '135' '13th' '14' '140' '1400' '141' '142' '143'\n",
      " '144' '145' '147' '148' '14k' '14th' '15' '150' '1500' '152' '155' '156'\n",
      " '157' '15am' '15th' '16' '160' '1600' '161' '165' '16th' '17' '170'\n",
      " '1700' '1700s' '174' '175' '178' '17th' '18' '180' '1800' '1800s' '182'\n",
      " '184' '185' '1857' '1860' '1862' '1875' '1890' '1896' '18th' '19' '190'\n",
      " '1900' '1900s' '1901' '1903' '1904' '1905' '1906' '1908' '1910' '1911'\n",
      " '1912' '1913' '1914' '1915' '1916' '1917' '1918' '1919' '1920' '1920s'\n",
      " '1922' '1923' '1924' '1925' '1926' '1927' '1928' '1929' '1930' '1930s'\n",
      " '1931' '1932' '1933' '1934' '1935' '1936' '1937' '1938' '1939' '1940'\n",
      " '1941' '1942' '1943' '1944' '1945' '1946' '1947' '1948' '1949' '195'\n",
      " '1950' '1950s' '1951' '1952' '1953' '1954' '1955' '1956' '1957' '1958'\n",
      " '1959']\n"
     ]
    }
   ],
   "source": [
    "# vectorize the text using word count\n",
    "vectorizer = CountVectorizer(min_df=5, stop_words='english')\n",
    "vectorizer.fit(train_X)\n",
    "print(\"Vocabulary length: \" + str(len(vectorizer.get_feature_names_out())))\n",
    "print(\"First words: \" + str(vectorizer.get_feature_names_out()[:200]))\n",
    "\n",
    "train_X_vector = vectorizer.transform(train_X)\n",
    "valid_X_vector = vectorizer.transform(valid_X)"
   ]
  },
  {
   "cell_type": "code",
   "execution_count": 6,
   "id": "9edccf8e",
   "metadata": {
    "execution": {
     "iopub.execute_input": "2023-05-21T13:13:28.104950Z",
     "iopub.status.busy": "2023-05-21T13:13:28.104452Z",
     "iopub.status.idle": "2023-05-21T13:15:39.166057Z",
     "shell.execute_reply": "2023-05-21T13:15:39.164392Z"
    },
    "papermill": {
     "duration": 131.074536,
     "end_time": "2023-05-21T13:15:39.172460",
     "exception": false,
     "start_time": "2023-05-21T13:13:28.097924",
     "status": "completed"
    },
    "tags": []
   },
   "outputs": [
    {
     "data": {
      "text/html": [
       "<style>#sk-container-id-1 {color: black;background-color: white;}#sk-container-id-1 pre{padding: 0;}#sk-container-id-1 div.sk-toggleable {background-color: white;}#sk-container-id-1 label.sk-toggleable__label {cursor: pointer;display: block;width: 100%;margin-bottom: 0;padding: 0.3em;box-sizing: border-box;text-align: center;}#sk-container-id-1 label.sk-toggleable__label-arrow:before {content: \"▸\";float: left;margin-right: 0.25em;color: #696969;}#sk-container-id-1 label.sk-toggleable__label-arrow:hover:before {color: black;}#sk-container-id-1 div.sk-estimator:hover label.sk-toggleable__label-arrow:before {color: black;}#sk-container-id-1 div.sk-toggleable__content {max-height: 0;max-width: 0;overflow: hidden;text-align: left;background-color: #f0f8ff;}#sk-container-id-1 div.sk-toggleable__content pre {margin: 0.2em;color: black;border-radius: 0.25em;background-color: #f0f8ff;}#sk-container-id-1 input.sk-toggleable__control:checked~div.sk-toggleable__content {max-height: 200px;max-width: 100%;overflow: auto;}#sk-container-id-1 input.sk-toggleable__control:checked~label.sk-toggleable__label-arrow:before {content: \"▾\";}#sk-container-id-1 div.sk-estimator input.sk-toggleable__control:checked~label.sk-toggleable__label {background-color: #d4ebff;}#sk-container-id-1 div.sk-label input.sk-toggleable__control:checked~label.sk-toggleable__label {background-color: #d4ebff;}#sk-container-id-1 input.sk-hidden--visually {border: 0;clip: rect(1px 1px 1px 1px);clip: rect(1px, 1px, 1px, 1px);height: 1px;margin: -1px;overflow: hidden;padding: 0;position: absolute;width: 1px;}#sk-container-id-1 div.sk-estimator {font-family: monospace;background-color: #f0f8ff;border: 1px dotted black;border-radius: 0.25em;box-sizing: border-box;margin-bottom: 0.5em;}#sk-container-id-1 div.sk-estimator:hover {background-color: #d4ebff;}#sk-container-id-1 div.sk-parallel-item::after {content: \"\";width: 100%;border-bottom: 1px solid gray;flex-grow: 1;}#sk-container-id-1 div.sk-label:hover label.sk-toggleable__label {background-color: #d4ebff;}#sk-container-id-1 div.sk-serial::before {content: \"\";position: absolute;border-left: 1px solid gray;box-sizing: border-box;top: 0;bottom: 0;left: 50%;z-index: 0;}#sk-container-id-1 div.sk-serial {display: flex;flex-direction: column;align-items: center;background-color: white;padding-right: 0.2em;padding-left: 0.2em;position: relative;}#sk-container-id-1 div.sk-item {position: relative;z-index: 1;}#sk-container-id-1 div.sk-parallel {display: flex;align-items: stretch;justify-content: center;background-color: white;position: relative;}#sk-container-id-1 div.sk-item::before, #sk-container-id-1 div.sk-parallel-item::before {content: \"\";position: absolute;border-left: 1px solid gray;box-sizing: border-box;top: 0;bottom: 0;left: 50%;z-index: -1;}#sk-container-id-1 div.sk-parallel-item {display: flex;flex-direction: column;z-index: 1;position: relative;background-color: white;}#sk-container-id-1 div.sk-parallel-item:first-child::after {align-self: flex-end;width: 50%;}#sk-container-id-1 div.sk-parallel-item:last-child::after {align-self: flex-start;width: 50%;}#sk-container-id-1 div.sk-parallel-item:only-child::after {width: 0;}#sk-container-id-1 div.sk-dashed-wrapped {border: 1px dashed gray;margin: 0 0.4em 0.5em 0.4em;box-sizing: border-box;padding-bottom: 0.4em;background-color: white;}#sk-container-id-1 div.sk-label label {font-family: monospace;font-weight: bold;display: inline-block;line-height: 1.2em;}#sk-container-id-1 div.sk-label-container {text-align: center;}#sk-container-id-1 div.sk-container {/* jupyter's `normalize.less` sets `[hidden] { display: none; }` but bootstrap.min.css set `[hidden] { display: none !important; }` so we also need the `!important` here to be able to override the default hidden behavior on the sphinx rendered scikit-learn.org. See: https://github.com/scikit-learn/scikit-learn/issues/21755 */display: inline-block !important;position: relative;}#sk-container-id-1 div.sk-text-repr-fallback {display: none;}</style><div id=\"sk-container-id-1\" class=\"sk-top-container\"><div class=\"sk-text-repr-fallback\"><pre>SGDClassifier(alpha=1e-05, max_iter=5, tol=None)</pre><b>In a Jupyter environment, please rerun this cell to show the HTML representation or trust the notebook. <br />On GitHub, the HTML representation is unable to render, please try loading this page with nbviewer.org.</b></div><div class=\"sk-container\" hidden><div class=\"sk-item\"><div class=\"sk-estimator sk-toggleable\"><input class=\"sk-toggleable__control sk-hidden--visually\" id=\"sk-estimator-id-1\" type=\"checkbox\" checked><label for=\"sk-estimator-id-1\" class=\"sk-toggleable__label sk-toggleable__label-arrow\">SGDClassifier</label><div class=\"sk-toggleable__content\"><pre>SGDClassifier(alpha=1e-05, max_iter=5, tol=None)</pre></div></div></div></div></div>"
      ],
      "text/plain": [
       "SGDClassifier(alpha=1e-05, max_iter=5, tol=None)"
      ]
     },
     "execution_count": 6,
     "metadata": {},
     "output_type": "execute_result"
    }
   ],
   "source": [
    "# going for SVMs since they're usually reliable with high dimensional data\n",
    "model = SGDClassifier(loss='hinge', penalty='l2', alpha=1e-5, max_iter=5, tol=None)\n",
    "model.fit(train_X_vector, train_y)"
   ]
  },
  {
   "cell_type": "code",
   "execution_count": 7,
   "id": "be856824",
   "metadata": {
    "execution": {
     "iopub.execute_input": "2023-05-21T13:15:39.186261Z",
     "iopub.status.busy": "2023-05-21T13:15:39.185314Z",
     "iopub.status.idle": "2023-05-21T13:16:36.365555Z",
     "shell.execute_reply": "2023-05-21T13:16:36.363909Z"
    },
    "papermill": {
     "duration": 57.195951,
     "end_time": "2023-05-21T13:16:36.373670",
     "exception": false,
     "start_time": "2023-05-21T13:15:39.177719",
     "status": "completed"
    },
    "tags": []
   },
   "outputs": [
    {
     "name": "stdout",
     "output_type": "stream",
     "text": [
      "Results for the basic SVM classifier:\n",
      "               precision    recall  f1-score   support\n",
      "\n",
      "        angry       0.47      0.27      0.34     41449\n",
      "      furious       0.57      0.58      0.57     14785\n",
      "     prepared       0.38      0.19      0.26     28969\n",
      "acknowledging       0.43      0.16      0.23     10477\n",
      "     trusting       0.33      0.16      0.21      9022\n",
      "    confident       0.50      0.43      0.46     30130\n",
      "      hopeful       0.51      0.31      0.39      2573\n",
      "       caring       0.27      0.15      0.19     14018\n",
      "  sentimental       0.31      0.21      0.25      4439\n",
      " anticipating       0.28      0.12      0.16     12842\n",
      "      wishing       0.37      0.16      0.22     25475\n",
      "    surprised       0.21      0.21      0.21      5177\n",
      "      ashamed       0.50      0.37      0.43     19371\n",
      "  questioning       0.34      0.18      0.24      5262\n",
      "          sad       0.38      0.26      0.31      5489\n",
      "    nostalgic       0.55      0.39      0.46      4521\n",
      "   devastated       0.63      0.49      0.55      9701\n",
      "    terrified       0.27      0.16      0.20      3099\n",
      "  embarrassed       0.36      0.17      0.23     16127\n",
      "       lonely       0.49      0.44      0.47      7509\n",
      "  encouraging       0.52      0.57      0.54     50975\n",
      "   suggesting       0.63      0.59      0.61     12667\n",
      "      content       0.42      0.25      0.31      9013\n",
      "       afraid       0.36      0.25      0.29     16204\n",
      "    impressed       0.42      0.21      0.28      7513\n",
      "     agreeing       0.41      0.27      0.33      6271\n",
      " apprehensive       0.44      0.31      0.36      7285\n",
      "        proud       0.22      0.18      0.20      4919\n",
      "      annoyed       0.15      0.07      0.09     16780\n",
      "      anxious       0.44      0.29      0.35      6138\n",
      "     grateful       0.52      0.48      0.50     14665\n",
      "      excited       0.40      0.21      0.27     10009\n",
      "      neutral       0.52      0.84      0.64    252467\n",
      "     faithful       0.46      0.41      0.44     19879\n",
      "       guilty       0.35      0.15      0.21      6214\n",
      "    consoling       0.44      0.21      0.28     30477\n",
      "    disgusted       0.47      0.35      0.40     13807\n",
      " disappointed       0.69      0.82      0.75     11632\n",
      "      jealous       0.44      0.29      0.35      8619\n",
      "       joyful       0.51      0.48      0.49     40259\n",
      " sympathizing       0.61      0.67      0.64     32600\n",
      "\n",
      "     accuracy                           0.50    848828\n",
      "    macro avg       0.43      0.32      0.36    848828\n",
      " weighted avg       0.47      0.50      0.46    848828\n",
      "\n"
     ]
    }
   ],
   "source": [
    "# validate the model\n",
    "pred_y = model.predict(valid_X_vector)\n",
    "\n",
    "print('Results for the basic SVM classifier:')\n",
    "print(classification_report(valid_y, pred_y, target_names=classes))"
   ]
  }
 ],
 "metadata": {
  "kernelspec": {
   "display_name": "Python 3",
   "language": "python",
   "name": "python3"
  },
  "language_info": {
   "codemirror_mode": {
    "name": "ipython",
    "version": 3
   },
   "file_extension": ".py",
   "mimetype": "text/x-python",
   "name": "python",
   "nbconvert_exporter": "python",
   "pygments_lexer": "ipython3",
   "version": "3.10.10"
  },
  "papermill": {
   "default_parameters": {},
   "duration": 314.101174,
   "end_time": "2023-05-21T13:16:38.996441",
   "environment_variables": {},
   "exception": null,
   "input_path": "__notebook__.ipynb",
   "output_path": "__notebook__.ipynb",
   "parameters": {},
   "start_time": "2023-05-21T13:11:24.895267",
   "version": "2.4.0"
  }
 },
 "nbformat": 4,
 "nbformat_minor": 5
}
