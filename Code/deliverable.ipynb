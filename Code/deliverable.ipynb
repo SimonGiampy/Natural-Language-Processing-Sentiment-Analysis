{
 "cells": [
  {
   "attachments": {},
   "cell_type": "markdown",
   "metadata": {},
   "source": [
    "# Natural Language Processing project - Emotional Dialogues dataset"
   ]
  },
  {
   "cell_type": "code",
   "execution_count": null,
   "metadata": {},
   "outputs": [],
   "source": []
  },
  {
   "cell_type": "code",
   "execution_count": null,
   "metadata": {},
   "outputs": [
    {
     "name": "stderr",
     "output_type": "stream",
     "text": [
      "/opt/conda/lib/python3.10/site-packages/scipy/__init__.py:146: UserWarning: A NumPy version >=1.16.5 and <1.23.0 is required for this version of SciPy (detected version 1.23.5\n",
      "  warnings.warn(f\"A NumPy version >={np_minversion} and <{np_maxversion}\"\n"
     ]
    }
   ],
   "source": [
    "\n",
    "from sklearn.model_selection import train_test_split\n",
    "from sklearn.metrics import classification_report\n",
    "from sklearn.feature_extraction.text import CountVectorizer\n",
    "from sklearn.linear_model import SGDClassifier"
   ]
  },
  {
   "cell_type": "code",
   "execution_count": null,
   "metadata": {},
   "outputs": [
    {
     "name": "stderr",
     "output_type": "stream",
     "text": [
      "/opt/conda/lib/python3.10/site-packages/scipy/__init__.py:146: UserWarning: A NumPy version >=1.16.5 and <1.23.0 is required for this version of SciPy (detected version 1.23.5\n",
      "  warnings.warn(f\"A NumPy version >={np_minversion} and <{np_maxversion}\"\n"
     ]
    },
    {
     "name": "stdout",
     "output_type": "stream",
     "text": [
      "2.11.0\n",
      "[PhysicalDevice(name='/physical_device:CPU:0', device_type='CPU'), PhysicalDevice(name='/physical_device:GPU:0', device_type='GPU')]\n"
     ]
    }
   ],
   "source": [
    "import pandas as pd\n",
    "import numpy as np\n",
    "import seaborn as sns\n",
    "import matplotlib.pyplot as plt\n",
    "\n",
    "import shutil\n",
    "from IPython.display import FileLink\n",
    "\n",
    "from sklearn.model_selection import train_test_split\n",
    "from sklearn.metrics import classification_report\n",
    "\n",
    "from transformers import AutoTokenizer, DataCollatorWithPadding\n",
    "from transformers import TFAutoModelForSequenceClassification\n",
    "from transformers import AdamWeightDecay\n",
    "from datasets import Dataset, DatasetDict\n",
    "\n",
    "import tensorflow as tf\n",
    "from tensorflow.keras.optimizers.schedules import PolynomialDecay\n",
    "print(tf.__version__)\n",
    "print(tf.config.list_physical_devices())\n",
    "\n",
    "# startegy for training on multiple gpus\n",
    "mirrored_strategy = tf.distribute.MirroredStrategy()"
   ]
  },
  {
   "cell_type": "code",
   "execution_count": null,
   "metadata": {},
   "outputs": [
    {
     "name": "stdout",
     "output_type": "stream",
     "text": [
      "0    You moron ! What fool washes diapers by the we...\n",
      "1                                   You useless fool !\n",
      "2                                 How dare you sleep !\n",
      "3                        Up ! Go and clean the house .\n",
      "4                                  Clean the kitchen .\n",
      "Name: uttr, dtype: object\n",
      "<class 'pandas.core.series.Series'>\n",
      "\n",
      "0       angry\n",
      "1     furious\n",
      "2     furious\n",
      "3    prepared\n",
      "4    prepared\n",
      "Name: eb+_emot, dtype: object\n",
      "<class 'pandas.core.series.Series'>\n",
      "\n"
     ]
    },
    {
     "data": {
      "text/plain": [
       "array(['angry', 'furious', 'prepared', 'acknowledging', 'trusting',\n",
       "       'confident', 'hopeful', 'caring', 'sentimental', 'anticipating',\n",
       "       'wishing', 'surprised', 'ashamed', 'questioning', 'sad',\n",
       "       'nostalgic', 'devastated', 'terrified', 'embarrassed', 'lonely',\n",
       "       'encouraging', 'suggesting', 'content', 'afraid', 'impressed',\n",
       "       'agreeing', 'apprehensive', 'proud', 'annoyed', 'anxious',\n",
       "       'grateful', 'excited', 'neutral', 'faithful', 'guilty',\n",
       "       'consoling', 'disgusted', 'disappointed', 'jealous', 'joyful',\n",
       "       'sympathizing'], dtype=object)"
      ]
     },
     "metadata": {},
     "output_type": "display_data"
    }
   ],
   "source": [
    "\n",
    "dataset = pd.read_csv('../input/edos-1m/EDOS 1M.csv')\n",
    "\n",
    "X,y = dataset[\"uttr\"], dataset[\"eb+_emot\"]\n",
    "\n",
    "print(X.head(5))\n",
    "print(type(X), end=\"\\n\\n\")\n",
    "print(y.head(5))\n",
    "print(type(y), end=\"\\n\\n\")\n",
    "\n",
    "classes = y.unique()\n",
    "classes"
   ]
  },
  {
   "cell_type": "code",
   "execution_count": null,
   "metadata": {},
   "outputs": [
    {
     "data": {
      "image/png": "[encoded data removed]",
      "text/plain": [
       "<Figure size 640x480 with 1 Axes>"
      ]
     },
     "metadata": {},
     "output_type": "display_data"
    }
   ],
   "source": [
    "# plot classes distribution\n",
    "counts = pd.get_dummies(y).sum()\n",
    "\n",
    "plt.ylabel('Counts')\n",
    "plt.xlabel('Classes')\n",
    "sns.barplot(x = [i for i in range(len(classes))], y = counts)\n",
    "plt.show()"
   ]
  },
  {
   "cell_type": "code",
   "execution_count": null,
   "metadata": {},
   "outputs": [
    {
     "name": "stdout",
     "output_type": "stream",
     "text": [
      "train size:  990299\n",
      "validation size:  424414\n"
     ]
    }
   ],
   "source": [
    "# train, validation and test split\n",
    "train_X, valid_X, train_y, valid_y = train_test_split(X, y, test_size=0.3, stratify=y)\n",
    "\n",
    "print(\"train size: \", len(train_X))\n",
    "print(\"validation size: \", len(valid_X))"
   ]
  },
  {
   "cell_type": "code",
   "execution_count": null,
   "metadata": {},
   "outputs": [],
   "source": [
    "# support function to compute top-k accuracy\n",
    "def top_k_accuracy(true_y, pred_y, k):\n",
    "    # Get the top k predictions for each sample in the validation dataset\n",
    "    pred_y_top_k = np.argsort(pred_y, axis=1)[:, -k:]\n",
    "\n",
    "    # Get the ground truth labels for the validation dataset\n",
    "    true_labels = np.asarray(true_y)\n",
    "\n",
    "    # Compute top k accuracy\n",
    "    top_k_accuracy = np.mean(np.any(pred_y_top_k == true_labels.reshape(true_labels.shape[0], 1), axis=1))\n",
    "    return f\"Top-{k} accuracy: \" + str(top_k_accuracy)"
   ]
  }
 ],
 "metadata": {
  "language_info": {
   "name": "python"
  },
  "orig_nbformat": 4
 },
 "nbformat": 4,
 "nbformat_minor": 2
}
